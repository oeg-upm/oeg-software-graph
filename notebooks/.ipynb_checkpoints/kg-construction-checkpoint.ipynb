{
 "cells": [
  {
   "cell_type": "code",
   "execution_count": 7,
   "id": "f14c9105",
   "metadata": {},
   "outputs": [],
   "source": [
    "import morph_kgc\n",
    "import pyoxigraph"
   ]
  },
  {
   "cell_type": "markdown",
   "id": "456110e2",
   "metadata": {},
   "source": [
    "# KG Construction"
   ]
  },
  {
   "cell_type": "code",
   "execution_count": 10,
   "id": "8b706c10",
   "metadata": {},
   "outputs": [],
   "source": [
    "config = \"\"\"\n",
    "             [SOMEF-json]\n",
    "             mappings=../mappings/mapping-somef-star.ttl\n",
    "         \"\"\""
   ]
  },
  {
   "cell_type": "code",
   "execution_count": 21,
   "id": "f9098a80",
   "metadata": {},
   "outputs": [
    {
     "name": "stderr",
     "output_type": "stream",
     "text": [
      "INFO | 2023-06-29 18:07:05,202 | 145 mapping rules retrieved.\n",
      "INFO | 2023-06-29 18:07:05,209 | Mappings processed in 1.037 seconds.\n",
      "INFO | 2023-06-29 18:07:19,715 | Number of triples generated in total: 0.\n"
     ]
    }
   ],
   "source": [
    "graph = morph_kgc.materialize_oxigraph(config)"
   ]
  },
  {
   "cell_type": "code",
   "execution_count": 16,
   "id": "be144b38",
   "metadata": {},
   "outputs": [],
   "source": [
    "query = \"\"\"\n",
    "            PREFIX sd: <https://w3id.org/okn/o/sd#>\n",
    "            \n",
    "            SELECT DISTINCT ?p \n",
    "            WHERE {\n",
    "                << ?s ?p ?o >> sd:confidence ?conf\n",
    "            }\n",
    "\"\"\""
   ]
  },
  {
   "cell_type": "code",
   "execution_count": 20,
   "id": "654b990c",
   "metadata": {},
   "outputs": [
    {
     "name": "stdout",
     "output_type": "stream",
     "text": [
      "<https://w3id.org/okn/o/sd#dateModified>\n",
      "<https://w3id.org/okn/o/sd#identifier>\n",
      "<https://w3id.org/okn/o/sd#author>\n",
      "<https://w3id.org/okn/o/sd#hasDocumentation>\n",
      "<https://w3id.org/okn/o/sd#hasUsageNotes>\n",
      "<https://w3id.org/okn/o/sd#name>\n",
      "<http://schema.org/license>\n",
      "<https://w3id.org/okn/o/sd#issueTracker>\n",
      "<https://w3id.org/okn/o/sd#contactDetails>\n",
      "<https://w3id.org/okn/o/sd#keywords>\n",
      "<https://w3id.org/okn/o/sd#date-created>\n",
      "<https://w3id.org/okn/o/sd#hasLongName>\n",
      "<https://w3id.org/okn/o/sd#hasDownloadUrl>\n",
      "<https://w3id.org/okn/o/sd#hasBuildFile>\n",
      "<https://w3id.org/okn/o/sd#hasSourceCode>\n",
      "<https://w3id.org/okn/o/sd#hasExecutableInstructions>\n",
      "<https://w3id.org/okn/o/sd#readme>\n",
      "<https://w3id.org/okn/o/sd#citation>\n",
      "<https://w3id.org/okn/o/sd#description>\n"
     ]
    }
   ],
   "source": [
    "q_res = graph.query(query)\n",
    "\n",
    "for solution in q_res:\n",
    "    print(solution['p'])\n"
   ]
  },
  {
   "cell_type": "code",
   "execution_count": 35,
   "id": "806ce7b9",
   "metadata": {},
   "outputs": [
    {
     "ename": "UnicodeDecodeError",
     "evalue": "'utf-8' codec can't decode byte 0x80 in position 3131: invalid start byte",
     "output_type": "error",
     "traceback": [
      "\u001b[0;31m---------------------------------------------------------------------------\u001b[0m",
      "\u001b[0;31mUnicodeDecodeError\u001b[0m                        Traceback (most recent call last)",
      "Input \u001b[0;32mIn [35]\u001b[0m, in \u001b[0;36m<cell line: 10>\u001b[0;34m()\u001b[0m\n\u001b[1;32m     11\u001b[0m filename \u001b[38;5;241m=\u001b[39m path \u001b[38;5;241m+\u001b[39m file\n\u001b[1;32m     12\u001b[0m \u001b[38;5;28;01mwith\u001b[39;00m \u001b[38;5;28mopen\u001b[39m(filename, \u001b[38;5;124m'\u001b[39m\u001b[38;5;124mr\u001b[39m\u001b[38;5;124m'\u001b[39m) \u001b[38;5;28;01mas\u001b[39;00m infile:\n\u001b[1;32m     13\u001b[0m     \u001b[38;5;66;03m#print(json.load(infile))\u001b[39;00m\n\u001b[0;32m---> 14\u001b[0m     json_ \u001b[38;5;241m=\u001b[39m \u001b[43mjson\u001b[49m\u001b[38;5;241;43m.\u001b[39;49m\u001b[43mload\u001b[49m\u001b[43m(\u001b[49m\u001b[43minfile\u001b[49m\u001b[43m)\u001b[49m\n\u001b[1;32m     15\u001b[0m     merged_json\u001b[38;5;241m.\u001b[39mappend(json_)\n",
      "File \u001b[0;32m/usr/local/Cellar/python@3.9/3.9.16/Frameworks/Python.framework/Versions/3.9/lib/python3.9/json/__init__.py:293\u001b[0m, in \u001b[0;36mload\u001b[0;34m(fp, cls, object_hook, parse_float, parse_int, parse_constant, object_pairs_hook, **kw)\u001b[0m\n\u001b[1;32m    274\u001b[0m \u001b[38;5;28;01mdef\u001b[39;00m \u001b[38;5;21mload\u001b[39m(fp, \u001b[38;5;241m*\u001b[39m, \u001b[38;5;28mcls\u001b[39m\u001b[38;5;241m=\u001b[39m\u001b[38;5;28;01mNone\u001b[39;00m, object_hook\u001b[38;5;241m=\u001b[39m\u001b[38;5;28;01mNone\u001b[39;00m, parse_float\u001b[38;5;241m=\u001b[39m\u001b[38;5;28;01mNone\u001b[39;00m,\n\u001b[1;32m    275\u001b[0m         parse_int\u001b[38;5;241m=\u001b[39m\u001b[38;5;28;01mNone\u001b[39;00m, parse_constant\u001b[38;5;241m=\u001b[39m\u001b[38;5;28;01mNone\u001b[39;00m, object_pairs_hook\u001b[38;5;241m=\u001b[39m\u001b[38;5;28;01mNone\u001b[39;00m, \u001b[38;5;241m*\u001b[39m\u001b[38;5;241m*\u001b[39mkw):\n\u001b[1;32m    276\u001b[0m     \u001b[38;5;124;03m\"\"\"Deserialize ``fp`` (a ``.read()``-supporting file-like object containing\u001b[39;00m\n\u001b[1;32m    277\u001b[0m \u001b[38;5;124;03m    a JSON document) to a Python object.\u001b[39;00m\n\u001b[1;32m    278\u001b[0m \n\u001b[0;32m   (...)\u001b[0m\n\u001b[1;32m    291\u001b[0m \u001b[38;5;124;03m    kwarg; otherwise ``JSONDecoder`` is used.\u001b[39;00m\n\u001b[1;32m    292\u001b[0m \u001b[38;5;124;03m    \"\"\"\u001b[39;00m\n\u001b[0;32m--> 293\u001b[0m     \u001b[38;5;28;01mreturn\u001b[39;00m loads(\u001b[43mfp\u001b[49m\u001b[38;5;241;43m.\u001b[39;49m\u001b[43mread\u001b[49m\u001b[43m(\u001b[49m\u001b[43m)\u001b[49m,\n\u001b[1;32m    294\u001b[0m         \u001b[38;5;28mcls\u001b[39m\u001b[38;5;241m=\u001b[39m\u001b[38;5;28mcls\u001b[39m, object_hook\u001b[38;5;241m=\u001b[39mobject_hook,\n\u001b[1;32m    295\u001b[0m         parse_float\u001b[38;5;241m=\u001b[39mparse_float, parse_int\u001b[38;5;241m=\u001b[39mparse_int,\n\u001b[1;32m    296\u001b[0m         parse_constant\u001b[38;5;241m=\u001b[39mparse_constant, object_pairs_hook\u001b[38;5;241m=\u001b[39mobject_pairs_hook, \u001b[38;5;241m*\u001b[39m\u001b[38;5;241m*\u001b[39mkw)\n",
      "File \u001b[0;32m/usr/local/Cellar/python@3.9/3.9.16/Frameworks/Python.framework/Versions/3.9/lib/python3.9/codecs.py:322\u001b[0m, in \u001b[0;36mBufferedIncrementalDecoder.decode\u001b[0;34m(self, input, final)\u001b[0m\n\u001b[1;32m    319\u001b[0m \u001b[38;5;28;01mdef\u001b[39;00m \u001b[38;5;21mdecode\u001b[39m(\u001b[38;5;28mself\u001b[39m, \u001b[38;5;28minput\u001b[39m, final\u001b[38;5;241m=\u001b[39m\u001b[38;5;28;01mFalse\u001b[39;00m):\n\u001b[1;32m    320\u001b[0m     \u001b[38;5;66;03m# decode input (taking the buffer into account)\u001b[39;00m\n\u001b[1;32m    321\u001b[0m     data \u001b[38;5;241m=\u001b[39m \u001b[38;5;28mself\u001b[39m\u001b[38;5;241m.\u001b[39mbuffer \u001b[38;5;241m+\u001b[39m \u001b[38;5;28minput\u001b[39m\n\u001b[0;32m--> 322\u001b[0m     (result, consumed) \u001b[38;5;241m=\u001b[39m \u001b[38;5;28;43mself\u001b[39;49m\u001b[38;5;241;43m.\u001b[39;49m\u001b[43m_buffer_decode\u001b[49m\u001b[43m(\u001b[49m\u001b[43mdata\u001b[49m\u001b[43m,\u001b[49m\u001b[43m \u001b[49m\u001b[38;5;28;43mself\u001b[39;49m\u001b[38;5;241;43m.\u001b[39;49m\u001b[43merrors\u001b[49m\u001b[43m,\u001b[49m\u001b[43m \u001b[49m\u001b[43mfinal\u001b[49m\u001b[43m)\u001b[49m\n\u001b[1;32m    323\u001b[0m     \u001b[38;5;66;03m# keep undecoded input until the next call\u001b[39;00m\n\u001b[1;32m    324\u001b[0m     \u001b[38;5;28mself\u001b[39m\u001b[38;5;241m.\u001b[39mbuffer \u001b[38;5;241m=\u001b[39m data[consumed:]\n",
      "\u001b[0;31mUnicodeDecodeError\u001b[0m: 'utf-8' codec can't decode byte 0x80 in position 3131: invalid start byte"
     ]
    }
   ],
   "source": [
    "## aggregate jsons\n",
    "\n",
    "import os\n",
    "import json\n",
    "\n",
    "path = '/Users/aiglesias/GitHub/oeg-software-graph/data/somef-data/single-json/'\n",
    "json_file_names = os.listdir(path)\n",
    "\n",
    "merged_json = []\n",
    "for file in json_file_names:\n",
    "    filename = path + file\n",
    "    with open(filename, 'r') as infile:\n",
    "        #print(json.load(infile))\n",
    "        json_ = json.load(infile)\n",
    "        merged_json.append(json_)"
   ]
  },
  {
   "cell_type": "code",
   "execution_count": null,
   "id": "495f2a9f",
   "metadata": {},
   "outputs": [],
   "source": []
  }
 ],
 "metadata": {
  "kernelspec": {
   "display_name": "Python 3 (ipykernel)",
   "language": "python",
   "name": "python3"
  },
  "language_info": {
   "codemirror_mode": {
    "name": "ipython",
    "version": 3
   },
   "file_extension": ".py",
   "mimetype": "text/x-python",
   "name": "python",
   "nbconvert_exporter": "python",
   "pygments_lexer": "ipython3",
   "version": "3.9.16"
  }
 },
 "nbformat": 4,
 "nbformat_minor": 5
}
