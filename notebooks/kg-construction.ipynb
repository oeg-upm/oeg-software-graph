{
 "cells": [
  {
   "cell_type": "markdown",
   "id": "97493594",
   "metadata": {},
   "source": [
    "# Knowledge Graph construction and query with extracted software metadata\n",
    "\n",
    "This notebook first generates a knowledge graph from the information extracted about software repositories. It is later queried to assess the good practices followed by the extracted repositories."
   ]
  },
  {
   "cell_type": "code",
   "execution_count": 1,
   "id": "16cf3ebb",
   "metadata": {},
   "outputs": [],
   "source": [
    "import morph_kgc\n",
    "import pyoxigraph"
   ]
  },
  {
   "cell_type": "markdown",
   "id": "7d0436b4",
   "metadata": {},
   "source": [
    "## KG Construction\n",
    "The knowledge graph is generated using Morph-KGC, that uses RML mappings to transform the JSON file into RDF. This tool requires some configuration parameters, where we indicate the desired output serialisation and the name and path to the RML mapping file. Then, the kg is generated and stored as a oxigraph store in the variable `graph`, that it is also saved as a `.nq` file."
   ]
  },
  {
   "cell_type": "code",
   "execution_count": 62,
   "id": "7f142c18",
   "metadata": {},
   "outputs": [],
   "source": [
    "config = \"\"\"\n",
    "             [CONFIGURATION]\n",
    "             output_format=N-QUADS\n",
    "             \n",
    "             [SOMEF-json]\n",
    "             mappings=../mappings/mapping-somef-star.ttl\n",
    "         \"\"\""
   ]
  },
  {
   "cell_type": "code",
   "execution_count": 101,
   "id": "053b4628",
   "metadata": {},
   "outputs": [
    {
     "name": "stderr",
     "output_type": "stream",
     "text": [
      "INFO | 2023-07-03 18:14:26,790 | 145 mapping rules retrieved.\n",
      "INFO | 2023-07-03 18:14:26,796 | Mappings processed in 0.984 seconds.\n",
      "INFO | 2023-07-03 18:14:36,412 | Number of triples generated in total: 16524.\n"
     ]
    }
   ],
   "source": [
    "graph = morph_kgc.materialize_oxigraph(config)"
   ]
  },
  {
   "cell_type": "code",
   "execution_count": 102,
   "id": "10e1312c",
   "metadata": {},
   "outputs": [],
   "source": [
    "graph.add(pyoxigraph.Quad(\n",
    "    pyoxigraph.NamedNode('https://w3id.org/okn/i/graph/20230628'),\n",
    "    pyoxigraph.NamedNode('http://purl.org/dc/terms/created'),\n",
    "    pyoxigraph.Literal('2023-06-28 00:00:00', datatype=pyoxigraph.NamedNode('http://www.w3.org/2001/XMLSchema#dateTime')),\n",
    "    pyoxigraph.NamedNode('https://w3id.org/okn/i/graph/default')))\n",
    "graph.add(pyoxigraph.Quad(\n",
    "    pyoxigraph.NamedNode('https://w3id.org/okn/i/graph/20230628'),\n",
    "    pyoxigraph.NamedNode('http://www.w3.org/ns/prov#wasAttributedTo'),\n",
    "    pyoxigraph.Literal('SOftware Metadata Extraction Framework (SOMEF)', datatype=pyoxigraph.NamedNode('http://www.w3.org/2001/XMLSchema#string')),\n",
    "    pyoxigraph.NamedNode('https://w3id.org/okn/i/graph/default')))"
   ]
  },
  {
   "cell_type": "code",
   "execution_count": 103,
   "id": "5c94be6a",
   "metadata": {},
   "outputs": [],
   "source": [
    "with open('/Users/aiglesias/GitHub/oeg-software-graph/data/somef-kg.nq', 'w') as result:\n",
    "    result.write(str(graph))"
   ]
  },
  {
   "cell_type": "markdown",
   "id": "de8e6b63",
   "metadata": {},
   "source": [
    "## KG querying - FAIRness assessment"
   ]
  },
  {
   "cell_type": "code",
   "execution_count": 73,
   "id": "d1b1b20c",
   "metadata": {},
   "outputs": [
    {
     "name": "stdout",
     "output_type": "stream",
     "text": [
      "\"270\"^^<http://www.w3.org/2001/XMLSchema#integer>\n"
     ]
    }
   ],
   "source": [
    "q_res = graph.query(\"\"\"\n",
    "            PREFIX sd: <https://w3id.org/okn/o/sd#>\n",
    "            \n",
    "            SELECT (COUNT (DISTINCT ?s) AS ?count_software)\n",
    "            FROM <https://w3id.org/okn/i/graph/20230628>\n",
    "            WHERE {\n",
    "                ?s a sd:Software\n",
    "            }\n",
    "\"\"\")\n",
    "\n",
    "for solution in q_res:\n",
    "    print(solution['count_software'])"
   ]
  },
  {
   "cell_type": "markdown",
   "id": "52eba743",
   "metadata": {},
   "source": [
    "### BP 1: Description is available"
   ]
  },
  {
   "cell_type": "code",
   "execution_count": 21,
   "id": "2ece4793",
   "metadata": {},
   "outputs": [],
   "source": [
    "bp1_1_debug = \"\"\"\n",
    "            PREFIX sd: <https://w3id.org/okn/o/sd#>\n",
    "            \n",
    "            SELECT DISTINCT ?software ?desc\n",
    "            FROM <https://w3id.org/okn/i/graph/20230628>\n",
    "            WHERE {\n",
    "                ?software sd:description ?desc \n",
    "            }\n",
    "\"\"\"\n",
    "q_res = graph.query(bp1_1_debug)\n",
    "\n",
    "for solution in q_res:\n",
    "    print(solution['software'], solution['desc'])\n"
   ]
  },
  {
   "cell_type": "markdown",
   "id": "5b25b644",
   "metadata": {},
   "source": [
    "Counting number of repositories with description (long and short)"
   ]
  },
  {
   "cell_type": "code",
   "execution_count": 24,
   "id": "37bab12e",
   "metadata": {},
   "outputs": [
    {
     "name": "stdout",
     "output_type": "stream",
     "text": [
      "\"229\"^^<http://www.w3.org/2001/XMLSchema#integer>\n"
     ]
    }
   ],
   "source": [
    "bp1_1 = \"\"\"\n",
    "            PREFIX sd: <https://w3id.org/okn/o/sd#>\n",
    "            \n",
    "            SELECT (COUNT (DISTINCT ?software) AS ?software_count) \n",
    "            FROM <https://w3id.org/okn/i/graph/20230628>\n",
    "            WHERE {\n",
    "                ?software sd:description ?desc \n",
    "            }\n",
    "\"\"\"\n",
    "q_res = graph.query(bp1_1)\n",
    "\n",
    "for solution in q_res:\n",
    "    print(solution['software_count'])\n"
   ]
  },
  {
   "cell_type": "markdown",
   "id": "20beeeb6",
   "metadata": {},
   "source": [
    "Numer of software with descriptions by type: long (README) or short (GitHub API)"
   ]
  },
  {
   "cell_type": "code",
   "execution_count": 44,
   "id": "80a7ac2b",
   "metadata": {},
   "outputs": [
    {
     "name": "stdout",
     "output_type": "stream",
     "text": [
      "\"200\"^^<http://www.w3.org/2001/XMLSchema#integer>\n"
     ]
    }
   ],
   "source": [
    "q_res = graph.query(\"\"\"\n",
    "            PREFIX sd: <https://w3id.org/okn/o/sd#>\n",
    "            \n",
    "            SELECT (COUNT (DISTINCT ?software_short) AS ?short_desc_count)\n",
    "            FROM <https://w3id.org/okn/i/graph/20230628>\n",
    "            WHERE {\n",
    "                << ?software_short sd:description ?desc_short >> sd:technique \"GitHub_API\".\n",
    "            }\n",
    "\"\"\")\n",
    "\n",
    "for solution in q_res:\n",
    "    print(solution['short_desc_count'])\n",
    "    "
   ]
  },
  {
   "cell_type": "code",
   "execution_count": 59,
   "id": "ad8800f9",
   "metadata": {},
   "outputs": [
    {
     "name": "stdout",
     "output_type": "stream",
     "text": [
      "\"88\"^^<http://www.w3.org/2001/XMLSchema#integer>\n"
     ]
    }
   ],
   "source": [
    "q_res = graph.query(\"\"\"\n",
    "            PREFIX sd: <https://w3id.org/okn/o/sd#>\n",
    "            PREFIX xsd: <http://www.w3.org/2001/XMLSchema#>\n",
    "            \n",
    "            SELECT (COUNT (DISTINCT ?software_long) AS ?long_desc_count)\n",
    "            FROM <https://w3id.org/okn/i/graph/20230628>\n",
    "            WHERE {\n",
    "                << ?software_long sd:description ?desc_long >> sd:technique ?long_technique ;\n",
    "                                                            sd:confidence ?long_conf .\n",
    "                VALUES ?long_technique {\"supervised_classification\" \"header_analysis\"}\n",
    "                FILTER(xsd:float(?long_conf) > 0.98)\n",
    "            }\n",
    "\"\"\")\n",
    "\n",
    "for solution in q_res:\n",
    "    print(solution['long_desc_count'])\n",
    "    "
   ]
  },
  {
   "cell_type": "markdown",
   "id": "52e96e13",
   "metadata": {},
   "source": [
    "### BP2: Persistent identifier\n",
    "Repositories that provide a DOI (not from a publication, but from e.g. Zenodo)"
   ]
  },
  {
   "cell_type": "code",
   "execution_count": 60,
   "id": "7dc604da",
   "metadata": {},
   "outputs": [
    {
     "name": "stdout",
     "output_type": "stream",
     "text": [
      "\"21\"^^<http://www.w3.org/2001/XMLSchema#integer>\n"
     ]
    }
   ],
   "source": [
    "q_res = graph.query(\"\"\"\n",
    "            PREFIX sd: <https://w3id.org/okn/o/sd#>\n",
    "            \n",
    "            SELECT (COUNT (DISTINCT ?software) AS ?count_software)\n",
    "            FROM <https://w3id.org/okn/i/graph/20230628>\n",
    "            WHERE {\n",
    "                ?software sd:identifier ?id \n",
    "            }\n",
    "\"\"\")\n",
    "\n",
    "for solution in q_res:\n",
    "    print(solution['count_software'])\n"
   ]
  },
  {
   "cell_type": "markdown",
   "id": "7d7a95d7",
   "metadata": {},
   "source": [
    "### BP3: Download URL\n",
    "Repositories that provide a URL for download from releases"
   ]
  },
  {
   "cell_type": "code",
   "execution_count": 66,
   "id": "c64b1859",
   "metadata": {},
   "outputs": [
    {
     "name": "stdout",
     "output_type": "stream",
     "text": [
      "\"81\"^^<http://www.w3.org/2001/XMLSchema#integer>\n"
     ]
    }
   ],
   "source": [
    "q_res = graph.query(\"\"\"\n",
    "            PREFIX sd: <https://w3id.org/okn/o/sd#>\n",
    "            \n",
    "            SELECT (COUNT (DISTINCT ?software) AS ?count_software)\n",
    "            FROM <https://w3id.org/okn/i/graph/20230628>\n",
    "            WHERE {\n",
    "                ?software sd:hasVersion ?version \n",
    "            }\n",
    "\"\"\")\n",
    "\n",
    "for solution in q_res:\n",
    "    print(solution['count_software'])\n"
   ]
  },
  {
   "cell_type": "markdown",
   "id": "eb5e7090",
   "metadata": {},
   "source": [
    "### BP4: A software versioning scheme is followed\n",
    "If tags follows semantic versioning scheme"
   ]
  },
  {
   "cell_type": "code",
   "execution_count": 66,
   "id": "aafd4ed9",
   "metadata": {},
   "outputs": [
    {
     "name": "stdout",
     "output_type": "stream",
     "text": [
      "\"81\"^^<http://www.w3.org/2001/XMLSchema#integer>\n"
     ]
    }
   ],
   "source": [
    "## SIN RESOLVER\n",
    "q_res = graph.query(\"\"\"\n",
    "            PREFIX sd: <https://w3id.org/okn/o/sd#>\n",
    "            \n",
    "            SELECT (COUNT (DISTINCT ?software) AS ?count_software)\n",
    "            FROM <https://w3id.org/okn/i/graph/20230628>\n",
    "            WHERE {\n",
    "                ?software sd:hasVersion ?version \n",
    "            }\n",
    "\"\"\")\n",
    "\n",
    "for solution in q_res:\n",
    "    print(solution['count_software'])\n"
   ]
  },
  {
   "cell_type": "markdown",
   "id": "28fc3a6d",
   "metadata": {},
   "source": [
    "### BP5: Documentation is available"
   ]
  },
  {
   "cell_type": "code",
   "execution_count": 67,
   "id": "af4d661e",
   "metadata": {},
   "outputs": [
    {
     "name": "stdout",
     "output_type": "stream",
     "text": [
      "\"42\"^^<http://www.w3.org/2001/XMLSchema#integer>\n"
     ]
    }
   ],
   "source": [
    "q_res = graph.query(\"\"\"\n",
    "            PREFIX sd: <https://w3id.org/okn/o/sd#>\n",
    "            \n",
    "            SELECT (COUNT (DISTINCT ?software) AS ?count_software)\n",
    "            FROM <https://w3id.org/okn/i/graph/20230628>\n",
    "            WHERE {\n",
    "                ?software sd:hasDocumentation ?doc \n",
    "            }\n",
    "\"\"\")\n",
    "\n",
    "for solution in q_res:\n",
    "    print(solution['count_software'])\n"
   ]
  },
  {
   "cell_type": "markdown",
   "id": "06be0403",
   "metadata": {},
   "source": [
    "### BP6: License available"
   ]
  },
  {
   "cell_type": "code",
   "execution_count": 82,
   "id": "c9fcb5ac",
   "metadata": {
    "scrolled": false
   },
   "outputs": [
    {
     "name": "stdout",
     "output_type": "stream",
     "text": [
      "\"164\"^^<http://www.w3.org/2001/XMLSchema#integer>\n"
     ]
    }
   ],
   "source": [
    "q_res = graph.query(\"\"\"\n",
    "            PREFIX sd: <https://w3id.org/okn/o/sd#>\n",
    "            PREFIX schema: <http://schema.org/>\n",
    "            \n",
    "            SELECT (COUNT (DISTINCT ?software) AS ?count_software)\n",
    "            FROM <https://w3id.org/okn/i/graph/20230628>\n",
    "            WHERE {\n",
    "                ?software a sd:Software ;\n",
    "                          schema:license ?license .\n",
    "                ?license a schema:CreativeWork ;\n",
    "                         sd:name ?license_name .\n",
    "            }\n",
    "\"\"\")\n",
    "\n",
    "for solution in q_res:\n",
    "    print(solution['count_software'])\n"
   ]
  },
  {
   "cell_type": "markdown",
   "id": "766e51e5",
   "metadata": {},
   "source": [
    "### BP7: Explicit citation"
   ]
  },
  {
   "cell_type": "code",
   "execution_count": 90,
   "id": "d62e1f7f",
   "metadata": {},
   "outputs": [
    {
     "name": "stdout",
     "output_type": "stream",
     "text": [
      "\"20\"^^<http://www.w3.org/2001/XMLSchema#integer>\n"
     ]
    }
   ],
   "source": [
    "q_res = graph.query(\"\"\"\n",
    "            PREFIX sd: <https://w3id.org/okn/o/sd#>\n",
    "            PREFIX schema: <http://schema.org/>\n",
    "            PREFIX prov: <http://www.w3.org/ns/prov#>\n",
    "            \n",
    "            SELECT (COUNT (DISTINCT ?software) AS ?count_software)\n",
    "            FROM <https://w3id.org/okn/i/graph/20230628>\n",
    "            WHERE {\n",
    "                << ?software sd:citation ?cite >> prov:hadPrimarySource ?source\n",
    "                FILTER(CONTAINS(str(?source),'README'))\n",
    "            }\n",
    "\"\"\")\n",
    "\n",
    "for solution in q_res:\n",
    "    print(solution['count_software'])\n"
   ]
  },
  {
   "cell_type": "code",
   "execution_count": 95,
   "id": "a76a6a29",
   "metadata": {},
   "outputs": [
    {
     "name": "stdout",
     "output_type": "stream",
     "text": [
      "\"5\"^^<http://www.w3.org/2001/XMLSchema#integer>\n"
     ]
    }
   ],
   "source": [
    "q_res = graph.query(\"\"\"\n",
    "            PREFIX sd: <https://w3id.org/okn/o/sd#>\n",
    "            PREFIX schema: <http://schema.org/>\n",
    "            PREFIX prov: <http://www.w3.org/ns/prov#>\n",
    "            \n",
    "            SELECT (COUNT (DISTINCT ?software) AS ?count_software)\n",
    "            FROM <https://w3id.org/okn/i/graph/20230628>\n",
    "            WHERE {\n",
    "                << ?software sd:citation ?cite >> prov:hadPrimarySource ?source\n",
    "                FILTER(CONTAINS(str(?source),'.cff'))\n",
    "            }\n",
    "\"\"\")\n",
    "\n",
    "for solution in q_res:\n",
    "    print(solution['count_software'])\n"
   ]
  },
  {
   "cell_type": "markdown",
   "id": "999d3832",
   "metadata": {},
   "source": [
    "### BP8: Available software metadata\n",
    "Programming language, date created, at least one release and keywords"
   ]
  },
  {
   "cell_type": "code",
   "execution_count": 117,
   "id": "539f96d7",
   "metadata": {
    "scrolled": false
   },
   "outputs": [
    {
     "name": "stdout",
     "output_type": "stream",
     "text": [
      "\"22\"^^<http://www.w3.org/2001/XMLSchema#integer>\n"
     ]
    }
   ],
   "source": [
    "q_res = graph.query(\"\"\"\n",
    "            PREFIX sd: <https://w3id.org/okn/o/sd#>\n",
    "            PREFIX schema: <http://schema.org/>\n",
    "            PREFIX prov: <http://www.w3.org/ns/prov#>\n",
    "            \n",
    "            SELECT (COUNT (DISTINCT ?software) AS ?count_software)\n",
    "            FROM <https://w3id.org/okn/i/graph/20230628>\n",
    "            WHERE {\n",
    "                ?software sd:hasSourceCode/sd:programmingLanguage ?language .\n",
    "                ?software sd:dateCreated ?date .\n",
    "                ?software sd:description ?desc .\n",
    "                ?software sd:hasVersion ?rel .\n",
    "                ?software sd:keywords ?keys .\n",
    "                \n",
    "            }\n",
    "\"\"\")\n",
    "\n",
    "for solution in q_res:\n",
    "    print(solution['count_software'])\n"
   ]
  },
  {
   "cell_type": "markdown",
   "id": "151c6ab3",
   "metadata": {},
   "source": [
    "### BP9: Installation instructions"
   ]
  },
  {
   "cell_type": "code",
   "execution_count": 118,
   "id": "7a1172fa",
   "metadata": {
    "scrolled": true
   },
   "outputs": [
    {
     "name": "stdout",
     "output_type": "stream",
     "text": [
      "\"60\"^^<http://www.w3.org/2001/XMLSchema#integer>\n"
     ]
    }
   ],
   "source": [
    "q_res = graph.query(\"\"\"\n",
    "            PREFIX sd: <https://w3id.org/okn/o/sd#>\n",
    "            PREFIX schema: <http://schema.org/>\n",
    "            PREFIX prov: <http://www.w3.org/ns/prov#>\n",
    "            \n",
    "            SELECT (COUNT (DISTINCT ?software) AS ?count_software)\n",
    "            FROM <https://w3id.org/okn/i/graph/20230628>\n",
    "            WHERE {\n",
    "                ?software sd:hasInstallationInstructions ?inst .\n",
    "                \n",
    "            }\n",
    "\"\"\")\n",
    "\n",
    "for solution in q_res:\n",
    "    print(solution['count_software'])\n"
   ]
  },
  {
   "cell_type": "markdown",
   "id": "d9444caf",
   "metadata": {},
   "source": [
    "### BP10: Software requirements"
   ]
  },
  {
   "cell_type": "code",
   "execution_count": 121,
   "id": "33d23188",
   "metadata": {
    "scrolled": true
   },
   "outputs": [
    {
     "name": "stdout",
     "output_type": "stream",
     "text": [
      "<https://www.w3id.org/okn/i/Software/oeg-upm/easytv-annotator>\n",
      "<https://www.w3id.org/okn/i/Software/oeg-upm/pytada-hdt-entity>\n",
      "<https://www.w3id.org/okn/i/Software/oeg-upm/devops-infra>\n",
      "<https://www.w3id.org/okn/i/Software/oeg-upm/pytada-hdt-entity>\n",
      "<https://www.w3id.org/okn/i/Software/oeg-upm/gwt-blocks>\n",
      "<https://www.w3id.org/okn/i/Software/oeg-upm/valkyr-ie-gate>\n",
      "<https://www.w3id.org/okn/i/Software/oeg-upm/FAIR-Research-Object>\n",
      "<https://www.w3id.org/okn/i/Software/oeg-upm/LOT-resources>\n",
      "<https://www.w3id.org/okn/i/Software/oeg-upm/soca>\n",
      "<https://www.w3id.org/okn/i/Software/oeg-upm/FarolAppsWeb>\n",
      "<https://www.w3id.org/okn/i/Software/oeg-upm/SendEmailWebApp>\n",
      "<https://www.w3id.org/okn/i/Software/oeg-upm/pytada-hdt-entity>\n",
      "<https://www.w3id.org/okn/i/Software/oeg-upm/Massive-ROs-Creator>\n",
      "<https://www.w3id.org/okn/i/Software/oeg-upm/FAIR-Research-Object>\n",
      "<https://www.w3id.org/okn/i/Software/oeg-upm/BRATtoBIO>\n",
      "<https://www.w3id.org/okn/i/Software/oeg-upm/pytada-hdt-entity>\n",
      "<https://www.w3id.org/okn/i/Software/oeg-upm/FAIR-Research-Object>\n",
      "<https://www.w3id.org/okn/i/Software/oeg-upm/Devos>\n",
      "<https://www.w3id.org/okn/i/Software/oeg-upm/ya2ro>\n",
      "<https://www.w3id.org/okn/i/Software/oeg-upm/astrea>\n",
      "<https://www.w3id.org/okn/i/Software/oeg-upm/Widoco>\n",
      "<https://www.w3id.org/okn/i/Software/oeg-upm/gtfs-bench>\n",
      "<https://www.w3id.org/okn/i/Software/oeg-upm/tada-hdt-entity>\n",
      "<https://www.w3id.org/okn/i/Software/oeg-upm/OnToology-view-mock>\n",
      "<https://www.w3id.org/okn/i/Software/oeg-upm/LOT-resources>\n",
      "<https://www.w3id.org/okn/i/Software/oeg-upm/valkyr-ie-gate>\n",
      "<https://www.w3id.org/okn/i/Software/oeg-upm/tada-gam>\n",
      "<https://www.w3id.org/okn/i/Software/oeg-upm/Chowlk>\n",
      "<https://www.w3id.org/okn/i/Software/oeg-upm/Massive-ROs-Creator>\n",
      "<https://www.w3id.org/okn/i/Software/oeg-upm/FAIR-Research-Object>\n",
      "<https://www.w3id.org/okn/i/Software/oeg-upm/Conceptual-Mapping>\n"
     ]
    }
   ],
   "source": [
    "q_res = graph.query(\"\"\"\n",
    "            PREFIX sd: <https://w3id.org/okn/o/sd#>\n",
    "            PREFIX schema: <http://schema.org/>\n",
    "            PREFIX prov: <http://www.w3.org/ns/prov#>\n",
    "            \n",
    "            SELECT (COUNT (DISTINCT ?software) AS ?count_software)\n",
    "            FROM <https://w3id.org/okn/i/graph/20230628>\n",
    "            WHERE {\n",
    "                ?software sd:softwareRequirements ?requirements .\n",
    "                \n",
    "            }\n",
    "\"\"\")\n",
    "\n",
    "for solution in q_res:\n",
    "    print(solution['software'])\n"
   ]
  },
  {
   "cell_type": "code",
   "execution_count": null,
   "id": "1942b616",
   "metadata": {},
   "outputs": [],
   "source": []
  }
 ],
 "metadata": {
  "kernelspec": {
   "display_name": "Python 3 (ipykernel)",
   "language": "python",
   "name": "python3"
  },
  "language_info": {
   "codemirror_mode": {
    "name": "ipython",
    "version": 3
   },
   "file_extension": ".py",
   "mimetype": "text/x-python",
   "name": "python",
   "nbconvert_exporter": "python",
   "pygments_lexer": "ipython3",
   "version": "3.9.16"
  }
 },
 "nbformat": 4,
 "nbformat_minor": 5
}
