{
 "cells": [
  {
   "cell_type": "markdown",
   "id": "97493594",
   "metadata": {},
   "source": [
    "# Knowledge Graph construction and query with extracted software metadata\n",
    "\n",
    "This notebook first generates a knowledge graph from the information extracted about software repositories. It is later queried to assess the good practices followed by the extracted repositories."
   ]
  },
  {
   "cell_type": "code",
   "execution_count": 1,
   "id": "16cf3ebb",
   "metadata": {},
   "outputs": [],
   "source": [
    "import morph_kgc\n",
    "import pyoxigraph"
   ]
  },
  {
   "cell_type": "markdown",
   "id": "7d0436b4",
   "metadata": {},
   "source": [
    "## KG Construction\n",
    "The knowledge graph is generated using Morph-KGC, that uses RML mappings to transform the JSON file into RDF. This tool requires some configuration parameters, where we indicate the desired output serialisation and the name and path to the RML mapping file. Then, the kg is generated and stored as a oxigraph store in the variable `graph`, that it is also saved as a `.nq` file."
   ]
  },
  {
   "cell_type": "code",
   "execution_count": 13,
   "id": "7f142c18",
   "metadata": {},
   "outputs": [],
   "source": [
    "config = \"\"\"\n",
    "             [CONFIGURATION]\n",
    "             output_format=N-QUADS\n",
    "             \n",
    "             [SOMEF-json]\n",
    "             mappings=../mappings/mapping-somef-star.ttl\n",
    "         \"\"\""
   ]
  },
  {
   "cell_type": "code",
   "execution_count": 14,
   "id": "053b4628",
   "metadata": {},
   "outputs": [
    {
     "name": "stderr",
     "output_type": "stream",
     "text": [
      "INFO | 2023-07-01 10:53:23,541 | 147 mapping rules retrieved.\n",
      "INFO | 2023-07-01 10:53:23,548 | Mappings processed in 1.014 seconds.\n",
      "INFO | 2023-07-01 10:53:34,046 | Number of triples generated in total: 16801.\n"
     ]
    }
   ],
   "source": [
    "graph = morph_kgc.materialize_oxigraph(config)"
   ]
  },
  {
   "cell_type": "code",
   "execution_count": 18,
   "id": "5c94be6a",
   "metadata": {},
   "outputs": [],
   "source": [
    "with open('/Users/aiglesias/GitHub/oeg-software-graph/data/somef-kg.nq', 'w') as result:\n",
    "    result.write(str(graph))"
   ]
  },
  {
   "cell_type": "markdown",
   "id": "de8e6b63",
   "metadata": {},
   "source": [
    "## KG querying - FAIRness assessment"
   ]
  },
  {
   "cell_type": "code",
   "execution_count": 50,
   "id": "d1b1b20c",
   "metadata": {},
   "outputs": [],
   "source": [
    "query = \"\"\"\n",
    "            PREFIX sd: <https://w3id.org/okn/o/sd#>\n",
    "            \n",
    "            SELECT DISTINCT ?p \n",
    "            WHERE {\n",
    "                << ?s ?p ?o >> sd:confidence ?conf\n",
    "            }\n",
    "\"\"\""
   ]
  },
  {
   "cell_type": "code",
   "execution_count": 51,
   "id": "cb5c4522",
   "metadata": {},
   "outputs": [
    {
     "name": "stdout",
     "output_type": "stream",
     "text": [
      "<https://w3id.org/okn/o/sd#hasSupportScriptLocation>\n",
      "<https://w3id.org/okn/o/sd#dateModified>\n",
      "<https://w3id.org/okn/o/sd#author>\n",
      "<https://w3id.org/okn/o/sd#name>\n",
      "<https://w3id.org/okn/o/sd#issueTracker>\n",
      "<https://w3id.org/okn/o/sd#date-created>\n",
      "<https://w3id.org/okn/o/sd#hasLongName>\n",
      "<https://w3id.org/okn/o/sd#hasDownloadUrl>\n",
      "<https://w3id.org/okn/o/sd#hasBuildFile>\n",
      "<https://w3id.org/okn/o/sd#hasSourceCode>\n",
      "<https://w3id.org/okn/o/sd#readme>\n",
      "<https://w3id.org/okn/o/sd#hasDocumentation>\n",
      "<http://schema.org/license>\n",
      "<https://w3id.org/okn/o/sd#hasUsageNotes>\n",
      "<https://w3id.org/okn/o/sd#keywords>\n",
      "<https://w3id.org/okn/o/sd#hasExecutableInstructions>\n",
      "<https://w3id.org/okn/o/sd#hasFAQ>\n",
      "<https://w3id.org/okn/o/sd#contributionGuidelines>\n",
      "<https://w3id.org/okn/o/sd#softwareRequirements>\n",
      "<https://w3id.org/okn/o/sd#citation>\n",
      "<https://w3id.org/okn/o/sd#identifier>\n",
      "<https://w3id.org/okn/o/sd#contactDetails>\n",
      "<https://w3id.org/okn/o/sd#hasExample>\n",
      "<https://w3id.org/okn/o/sd#hasAcknowledgements>\n",
      "<https://w3id.org/okn/o/sd#supportDetails>\n",
      "<https://w3id.org/okn/o/sd#hasCodeOfConduct>\n",
      "<https://w3id.org/okn/o/sd#description>\n",
      "<https://w3id.org/okn/o/sd#hasInstallationInstructions>\n"
     ]
    }
   ],
   "source": [
    "q_res = graph.query(query)\n",
    "\n",
    "for solution in q_res:\n",
    "    print(solution['p'])\n"
   ]
  }
 ],
 "metadata": {
  "kernelspec": {
   "display_name": "Python 3 (ipykernel)",
   "language": "python",
   "name": "python3"
  },
  "language_info": {
   "codemirror_mode": {
    "name": "ipython",
    "version": 3
   },
   "file_extension": ".py",
   "mimetype": "text/x-python",
   "name": "python",
   "nbconvert_exporter": "python",
   "pygments_lexer": "ipython3",
   "version": "3.9.16"
  }
 },
 "nbformat": 4,
 "nbformat_minor": 5
}
