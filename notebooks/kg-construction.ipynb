{
 "cells": [
  {
   "cell_type": "markdown",
   "id": "97493594",
   "metadata": {},
   "source": [
    "# Knowledge Graph construction and query with extracted software metadata\n",
    "\n",
    "This notebook first generates a knowledge graph from the information extracted about software repositories. It is later queried to assess the good practices followed by the extracted repositories."
   ]
  },
  {
   "cell_type": "code",
   "execution_count": 1,
   "id": "16cf3ebb",
   "metadata": {},
   "outputs": [],
   "source": [
    "import morph_kgc\n",
    "import pyoxigraph"
   ]
  },
  {
   "cell_type": "markdown",
   "id": "7d0436b4",
   "metadata": {},
   "source": [
    "## KG Construction\n",
    "The knowledge graph is generated using Morph-KGC, that uses RML mappings to transform the JSON file into RDF. This tool requires some configuration parameters, where we indicate the desired output serialisation and the name and path to the RML mapping file. Then, the kg is generated and stored as a oxigraph store in the variable `graph`, that it is also saved as a `.nq` file."
   ]
  },
  {
   "cell_type": "code",
   "execution_count": 2,
   "id": "7f142c18",
   "metadata": {},
   "outputs": [],
   "source": [
    "config = \"\"\"\n",
    "             [CONFIGURATION]\n",
    "             output_format=N-QUADS\n",
    "             \n",
    "             [SOMEF-json]\n",
    "             mappings=../mappings/mapping-somef-star.ttl\n",
    "         \"\"\""
   ]
  },
  {
   "cell_type": "code",
   "execution_count": 3,
   "id": "053b4628",
   "metadata": {},
   "outputs": [
    {
     "name": "stderr",
     "output_type": "stream",
     "text": [
      "INFO | 2023-07-03 15:52:54,517 | 145 mapping rules retrieved.\n",
      "INFO | 2023-07-03 15:52:54,526 | Mappings processed in 1.346 seconds.\n",
      "INFO | 2023-07-03 15:53:03,752 | Number of triples generated in total: 16278.\n"
     ]
    }
   ],
   "source": [
    "graph = morph_kgc.materialize_oxigraph(config)"
   ]
  },
  {
   "cell_type": "code",
   "execution_count": 4,
   "id": "10e1312c",
   "metadata": {},
   "outputs": [],
   "source": [
    "graph.add(pyoxigraph.Quad(\n",
    "    pyoxigraph.NamedNode('https://w3id.org/okn/i/graph/20230628'),\n",
    "    pyoxigraph.NamedNode('http://purl.org/dc/terms/created'),\n",
    "    pyoxigraph.Literal('2023-06-28 00:00:00', datatype=pyoxigraph.NamedNode('http://www.w3.org/2001/XMLSchema#dateTime')),\n",
    "    pyoxigraph.NamedNode('https://w3id.org/okn/i/graph/default')))\n",
    "graph.add(pyoxigraph.Quad(\n",
    "    pyoxigraph.NamedNode('https://w3id.org/okn/i/graph/20230628'),\n",
    "    pyoxigraph.NamedNode('http://www.w3.org/ns/prov#wasAttributedTo'),\n",
    "    pyoxigraph.Literal('SOftware Metadata Extraction Framework (SOMEF)', datatype=pyoxigraph.NamedNode('http://www.w3.org/2001/XMLSchema#string')),\n",
    "    pyoxigraph.NamedNode('https://w3id.org/okn/i/graph/default')))"
   ]
  },
  {
   "cell_type": "code",
   "execution_count": 35,
   "id": "6a8ddff8",
   "metadata": {},
   "outputs": [
    {
     "data": {
      "text/plain": [
       "oxigraph.Store"
      ]
     },
     "execution_count": 35,
     "metadata": {},
     "output_type": "execute_result"
    }
   ],
   "source": [
    "type(graph)"
   ]
  },
  {
   "cell_type": "code",
   "execution_count": 5,
   "id": "5c94be6a",
   "metadata": {},
   "outputs": [],
   "source": [
    "with open('/Users/aiglesias/GitHub/oeg-software-graph/data/somef-kg.nq', 'w') as result:\n",
    "    result.write(str(graph))"
   ]
  },
  {
   "cell_type": "markdown",
   "id": "de8e6b63",
   "metadata": {},
   "source": [
    "## KG querying - FAIRness assessment"
   ]
  },
  {
   "cell_type": "code",
   "execution_count": 52,
   "id": "d1b1b20c",
   "metadata": {},
   "outputs": [],
   "source": [
    "query = \"\"\"\n",
    "            PREFIX sd: <https://w3id.org/okn/o/sd#>\n",
    "            \n",
    "            SELECT DISTINCT ?s ?p ?o\n",
    "            WHERE {\n",
    "                GRAPH <https://w3id.org/okn/i/graph/default> {?s ?p ?o}\n",
    "            }\n",
    "\"\"\""
   ]
  },
  {
   "cell_type": "code",
   "execution_count": 53,
   "id": "cb5c4522",
   "metadata": {},
   "outputs": [
    {
     "name": "stdout",
     "output_type": "stream",
     "text": [
      "<https://w3id.org/okn/i/graph/20230628> <http://www.w3.org/ns/prov#wasAttributedTo> \"SOftware Metadata Extraction Framework (SOMEF)\"\n",
      "<https://w3id.org/okn/i/graph/20230628> <http://purl.org/dc/terms/created> \"2023-06-28 00:00:00\"^^<http://www.w3.org/2001/XMLSchema#dateTime>\n"
     ]
    }
   ],
   "source": [
    "q_res = graph.query(query)\n",
    "\n",
    "for solution in q_res:\n",
    "    print(solution['s'],solution['p'],solution['o'])\n"
   ]
  },
  {
   "cell_type": "code",
   "execution_count": null,
   "id": "80a7ac2b",
   "metadata": {},
   "outputs": [],
   "source": []
  }
 ],
 "metadata": {
  "kernelspec": {
   "display_name": "Python 3 (ipykernel)",
   "language": "python",
   "name": "python3"
  },
  "language_info": {
   "codemirror_mode": {
    "name": "ipython",
    "version": 3
   },
   "file_extension": ".py",
   "mimetype": "text/x-python",
   "name": "python",
   "nbconvert_exporter": "python",
   "pygments_lexer": "ipython3",
   "version": "3.9.16"
  }
 },
 "nbformat": 4,
 "nbformat_minor": 5
}
